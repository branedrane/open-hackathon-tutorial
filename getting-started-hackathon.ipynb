{
 "cells": [
  {
   "cell_type": "markdown",
   "id": "112520da-09a6-4cb4-9b72-ff4c87f686b6",
   "metadata": {},
   "source": [
    "# Getting Started on Hackathon Projects\n",
    "\n",
    "David Wakeham, *Quantum Computing Educator @ Xanadu*"
   ]
  },
  {
   "cell_type": "markdown",
   "id": "3422a311-e95e-4534-9e23-4e2d4ac32beb",
   "metadata": {},
   "source": [
    "## 1. Basic setup"
   ]
  },
  {
   "cell_type": "markdown",
   "id": "a15a11fb-f62f-4808-a43c-6ab7d20696cd",
   "metadata": {},
   "source": [
    "### 1.1. The GitHub page\n",
    "\n",
    "To get oriented for the hackathon, go to the QHack23 hackathon GitHub repostory at [github.com/XanaduAI/QHack2023](https://github.com/XanaduAI/QHack2023):\n",
    "\n",
    "<center>\n",
    "<img src=\"pics/github.png\" style=\"width:800px\">\n",
    "</center>\n",
    "\n",
    "You can go through the `readme` at your leisure, but here are some key points:\n",
    "- The hackathon will be running from February 22 (tomorrow!) at 10:00 AM ET to February 28, 5:00 PM ET.\n",
    "- You submit your hackathon project as a GitHub repo, the mechanics of which I'll cover shortly.\n",
    "- In addition to the power-ups (hardware credits) available through the coding challenge competition, you can also separately apply for power-ups for your hackathon project. I'll explain more below.\n",
    "- Hackathon projects will be judged by the QHack team, according to criteria explained below.\n",
    "- You can form a team of up to four members.\n",
    "- If you're in search of a team, join the QHack Discord and check out **#👀looking-for-a-team**.\n",
    "\n",
    "Now we'll get into the weeds!"
   ]
  },
  {
   "cell_type": "markdown",
   "id": "2ca34c38-5a8f-489f-b6d7-d72d8be17315",
   "metadata": {},
   "source": [
    "### 1.2. Submission and power-ups\n",
    "\n",
    "In order to create a hackathon project, there are a few steps:\n",
    "- Create a repository for it on [github.com](https://github.com/).\n",
    "- Create an issue in the [public QHack repo](https://github.com/XanaduAI/QHack2023), using [this template](https://github.com/XanaduAI/QHack2023/issues/4):\n",
    "\n",
    "<center>\n",
    "<img src=\"pics/eg_issue2.png\" style=\"width:800px\">\n",
    "</center>\n",
    "\n",
    "- In the issue, you must link to your project repo:\n",
    "\n",
    "<center>\n",
    "<img src=\"pics/link3.png\" style=\"width:800px\">\n",
    "</center>\n",
    "\n",
    "- Do not link to the *main* branch, but rather the *latest commit*. Here is a gif showing how to do this (sourced from the handy-dandy `readme`):\n",
    "\n",
    "<center>\n",
    "<img src=\"pics/gif.gif\" style=\"width:750px\">\n",
    "</center>\n",
    "\n",
    "- Finally, in the template indicate which topics you intend to enter your hackathon project into. Note that you must submit to at least one topic, but can choose more than one if you like. I'll explain topics in a bit more detail below!\n",
    "\n",
    "<center>\n",
    "<img src=\"pics/categories.png\" style=\"width:600px\">\n",
    "</center>\n",
    "\n",
    "- The template also has some **labels** on the right:\n",
    "\n",
    "<center>\n",
    "<img src=\"pics/labels.png\" style=\"width:300px\">\n",
    "</center>\n",
    "\n",
    "- There are two options:\n",
    "   - `PowerUp`: You would like to apply for a power-up.\n",
    "   - `Done`: Your project is finished and ready to be judged!\n",
    "- To apply for a power-up (before 5:00 PM ET, February 22), explain briefly what you intend to use it for. The relevant power-up sponsor will assess the applications and decide who to give them to! Note that this is **different** from the application for power-ups associated with coding challenges (due by 5PM ET today). Both can be used in the hackathon!\n",
    "\n",
    "<center>\n",
    "<img src=\"pics/powerup.png\" style=\"width:600px\">\n",
    "</center>\n",
    "\n",
    "- To make your life easier, I suggest applying for accounts (with AWS, NVIDIA, IBM, etc.) before applying for power-ups.\n",
    "- If you are submitting a final project and have already applied for a power-up, create a new issue for the submission!\n",
    "- Don't modify a submission marked `Done` after the end of the hackathon. You'll be disqualified!"
   ]
  },
  {
   "cell_type": "markdown",
   "id": "a8646891-0504-432f-85e6-8019a8c1fb88",
   "metadata": {},
   "source": [
    "### 1.2. Hackathon topics\n",
    "\n",
    "The specific hackathon topics will be described in more detail tomorrow morning (at 10 am ET). Tune in for all the details then! For now, I'll just give a quick, high-level overview.\n",
    "\n",
    "**Vizualization Challenge**\n",
    "\n",
    "One of the themes of QHack this year has been design, plotting, and visual interfaces. This topic is all about pushing the boundaries of visualization!\n",
    "\n",
    "**Quantum Chemistry Challenge**\n",
    "\n",
    "Understanding the behaviour and properties of chemicals is a \"killer app\" for quantum computing. From drug discovery to carbon capture to designing more efficient batteries, this is an arena where quantum computing is likely to have a real impact. This topic will focus on an important component of many quantum chemistry routines.\n",
    "\n",
    "**Hybrid Quantum-Classical Computing Challenge**\n",
    "\n",
    "Hybrid algorithms use all the resources — both quantum and classical — at our disposal. This topic will invite you to wander the largely undiscovered realms of hybrid computing!\n",
    "\n",
    "**Quantum Computing Today!**\n",
    "\n",
    "Quantum computing is an exciting and rapidly developing field of study. This topic will see you work at the cutting edge!\n",
    "\n",
    "**QEC and Compilation Challenge**\n",
    "\n",
    "We live in an era of noisy quantum circuits. This topic will focus on the related issues of quantum error correction and circuit compilation in the presence of noise!\n",
    "\n",
    "**NVIDIA/Amazon Braket Challenge**\n",
    "\n",
    "These are sponsor-specific challenges. Details TBA!"
   ]
  },
  {
   "cell_type": "markdown",
   "id": "4a7ddc0c-2053-47b6-9a18-e5fdecf30bd7",
   "metadata": {},
   "source": [
    "### 1.3. Judging\n",
    "\n",
    "For each hackathon topic, the QHack organizing team will grade submissions according to four criteria:\n",
    "- Scientific and/or technical ability demonstrated.\n",
    "- Overall quality of presentation.\n",
    "- Depth of use of the quantum computing software and hardware stack.\n",
    "- Additional topic-dependent requirements (that will be clearer once topics are announced).\n",
    "\n",
    "Specific Open Hackathon Challenges may be judged by that Challenge's sponsors. The QHack organizing team will provide the sponsor with a ranked list of the top candidate projects that are eligible for that Challenge. The final winner will be chosen by the sponsor from this list of top candidates."
   ]
  },
  {
   "cell_type": "markdown",
   "id": "735249b3-3cab-4d22-aa6e-bfdb7993cdeb",
   "metadata": {},
   "source": [
    "## 2. Hackathon projects 101\n",
    "\n",
    "In this section, I'll give some pointers for actually doing the hackathon project!\n",
    "\n",
    "### 2.1. How to find a team\n",
    "\n",
    "In order to find a team, head over to the [QHack discord server](https://discord.gg/fzhNYHe6pb) and check out the **#👀looking-for-a-team** channel. You can start your own team and recruit, or look for teams with vacancies. You may want to flag topics of interest, your background, and what sort of programming and/or hackathon experience you have. A few other stipulations (see the [Terms & Conditions](https://qhack.ai/terms-and-conditions) for the full list):\n",
    "- Projects are submitted by teams of 1–4 QHack participants.\n",
    "- A team may submit at most one project.\n",
    "- A QHack participant may be on at most one team.\n",
    "- Projects may be submitted to multiple categories."
   ]
  },
  {
   "cell_type": "markdown",
   "id": "bb1a0dbd-7d04-4d13-8c80-8571be56427e",
   "metadata": {},
   "source": [
    "### 2.2. How to come up with a project\n",
    "\n",
    "QHack provides you with a few useful resources to help generate project ideas:\n",
    "- The official description of the hackathon topics, coming out tomorrow morning at 10 AM ET.\n",
    "- Sponsor demos, particularly from sponsors associated with hackathon topics (they will be judging!).\n",
    "- Speaker sessions, since many speakers have explicitly suggested hackathon topics!\n",
    "\n",
    "Here are some other concrete (QHack- and PennyLane-oriented!) suggestions. Note that these will need to be associated with one of the hackathon topics, which will be more or less broad in scope:\n",
    "- Implement an idea from the quantum literature — or from one of our guest speaker presentations — with code.\n",
    "- Create a self-contained tutorial or demonstration of an idea from quantum computing. See the [PennyLane Community page](https://pennylane.ai/qml/demos_community.html) to see what we're looking for!\n",
    "- Extend one of the QHack Coding Challenges in a novel or interesting way.\n",
    "- Repurpose one of the [PennyLane demos](https://pennylane.ai/qml/demonstrations.html) to run on a quantum hardware device.\n",
    "- Submit a Pull Request to an open-source library with a new feature.\n",
    "\n",
    "There are lots of places besides QHack to find ideas! For instance, you could look at recent papers which provide a big-picture overview and/or discuss open problems, e.g. [\"Opportunities and Challenges in Fault-Tolerant Quantum Computation\"](https://arxiv.org/abs/2210.15844) or [\"Is quantum advantage the right goal for quantum machine learning?\"](https://arxiv.org/abs/2203.01340).\n",
    "\n",
    "Finally, a good meta-heuristic: brainstorm! Sit down (virtually or otherwise) with your team members, chew over the available material, discuss everyone's interests and backgrounds, spend some team generating ideas individually then bring them together and see what happens. You may find patterns, overlaps, or ways to merge ideas that are unexpected!"
   ]
  },
  {
   "cell_type": "markdown",
   "id": "99becefd-83a8-4357-9e61-9b4ecded4aa7",
   "metadata": {},
   "source": [
    "### 2.3. How to collaborate\n",
    "\n",
    "Collaboration is a big topic, so I'll just limit myself to a few tips:\n",
    "- *Communicate.* Find a channel for chatting (Discord, Slack, WhatsApp, ...) that is lightweight and searchable. You can use it to coordinate and stay in touch. When you communicate, try to be clear, timely and responsive. You will be working together intensively!\n",
    "- *Be nice.* Good collaboration is not just about what you say, but the way you say it! Be civil, respectful, and try to give constructive feedback. You are going to build something! (Note that QHack participants must abide by the [Code of Conduct](https://qhack.ai/code-of-conduct). If you feel harassed, threatened, or unsafe, **please contact us on Discord or Slack immediately**.)\n",
    "- *Agree on a division of labour.* Aim to be clear about who is doing what, when, as early as possible. You don't want to duplicate effort, or have an important part of the project stall because someone was meant to do something but didn't know it! Of course, things change; that's part of the hackathon rollercoaster. Clear, timely, and responsive communication are your friends in trying to adapt quickly to changes in project direction or scope.\n",
    "- *Use GitHub.* To complement the lightweight channel you use for coordination, you need version control software for the project itself. Since the final project is in the form of a GitHub repository, you may as well use it from the get go! If you're not familiar with GitHub, you can get started with their [Hello World tutorial](https://docs.github.com/en/get-started/quickstart/hello-world)."
   ]
  },
  {
   "cell_type": "markdown",
   "id": "d43acee6-2bcf-448a-93d3-f926f9134652",
   "metadata": {},
   "source": [
    "### 2.4. How to hack\n",
    "\n",
    "A good hackathon project is as much art as science. Here are some correspondingly qualitative guidelines:\n",
    "- *Be ambitious, but not too ambitious.* The goal is to do something new that excites you and, with luck, the judges. That will probably mean tackling a hard problem! But bear in mind that you will have a limited number of person hours to do it. It may help to budget these out based on an initial assessment of the scope of the project and the number of people in your team.\n",
    "- *Be ready to pivot.* Sometimes things don't work out. Don't worry! It doesn't mean effort is wasted. Try to be flexible and creative with the things that have worked out, and find ways to recycle that code base, successful hardware runs, or a new model you trained. Apply them to a new and more achievable end.\n",
    "- *Be thrifty.* A hackathon project should focus on solving a \"top-level\" problem rather than all the lower-level subproblems. You are unlikely to have time to solve them all! Find existing solutions you can leverage — a GitHub repo, a paper, an optimization routine, even another hackathon project — and cobble them together.\n",
    "- *Be messy, but not too messy.* You have a week to build something awesome and new. If it doesn't have a few rough edges, you have probably spent too much time polishing! That said, you will be judged on presentation, so the goal and scope of your project, and the progress you have made towards it, should be clear. Focus on these \"frontend\" aspects of the presentation and not, say, commenting every line of code or optimizing something the judges will never see.\n",
    "\n",
    "That's it from me. Please drop any questions into the thread, and happy QHacking!"
   ]
  },
  {
   "cell_type": "code",
   "execution_count": null,
   "id": "8b6c863d-1474-48f7-999e-61a5d52df2f4",
   "metadata": {},
   "outputs": [],
   "source": []
  }
 ],
 "metadata": {
  "kernelspec": {
   "display_name": "Python 3",
   "language": "python",
   "name": "python3"
  },
  "language_info": {
   "codemirror_mode": {
    "name": "ipython",
    "version": 3
   },
   "file_extension": ".py",
   "mimetype": "text/x-python",
   "name": "python",
   "nbconvert_exporter": "python",
   "pygments_lexer": "ipython3",
   "version": "3.9.7"
  }
 },
 "nbformat": 4,
 "nbformat_minor": 5
}
